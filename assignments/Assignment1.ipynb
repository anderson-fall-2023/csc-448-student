{
 "cells": [
  {
   "cell_type": "markdown",
   "metadata": {
    "hideCode": false,
    "hidePrompt": false,
    "slideshow": {
     "slide_type": "slide"
    }
   },
   "source": [
    "# Origin of Genome Replication\n",
    "\n",
    "Before this assignment, please verify that your solutions for exercises in Topic 1 are implemented correctly. **Please see Topic1 notebook for detailed information. You must copy Topic1_helper.py to this folder for these commands to work.**\n",
    "\n",
    "In this assignment, we will\n",
    "1. Extend these solutions\n",
    "2. Apply them to scenarios of both success and failure"
   ]
  },
  {
   "cell_type": "code",
   "execution_count": 1,
   "metadata": {
    "hideCode": false,
    "hidePrompt": false,
    "slideshow": {
     "slide_type": "skip"
    }
   },
   "outputs": [],
   "source": [
    "#### NO NEED TO EDIT ####\n",
    "from pathlib import Path\n",
    "home = str(Path.home()) # all other paths are relative to this path. change to something else if this is not the case on your system\n",
    "REPO = f\"{home}/csc-448-student\"\n",
    "NOTEBOOK = \"Assignment1\"\n",
    "\n",
    "%load_ext autoreload\n",
    "%autoreload 2\n",
    "\n",
    "from importlib import import_module\n",
    "helper = import_module(f'{NOTEBOOK}_helper')\n",
    "import Topic1_helper\n",
    "\n",
    "#### NO NEED TO EDIT ####"
   ]
  },
  {
   "cell_type": "markdown",
   "metadata": {},
   "source": [
    "## Moving past prokaryotic organisms\n",
    "\n",
    "We developed a bioinformatics algorithm that at a glance seems to detect origin sequences in a genome, but a closer inspection reveals that we have only tested this algorithm for a single prokaryotic organism. This *skew* algorithm will perform well on organisms with cirucular chromosomes, but what happens when we try it on an organism with linear chromosomes? Let's take a look at Yeast. \n",
    "\n",
    "### Yeast Origin Database\n",
    "It is a difficult biological question when you consider more complicated genomes. Even genomes that are well studied such as Yeast. Here is a link to a database with origin sequences: \n",
    "\n",
    "http://cerevisiae.oridb.org/search.php?chr=all&confirmed=true&likely=true&dubious=true&name= \n",
    "\n",
    "Notice anything? I notice the number of confirmed and likely origin locations on each chromosome. Oh yeah. We are now dealing with multiple chromosomes as well of course. Let's see how our algorithm does on this data. \n",
    "\n",
    "This is a good time to talk about file formats. Bioinformatics loves file formats and they often are not everything we would desire. A common sequence format is called a FASTA file. I have downloaded the Yeast genome for us, and we can take a look at the top:"
   ]
  },
  {
   "cell_type": "code",
   "execution_count": 2,
   "metadata": {},
   "outputs": [
    {
     "name": "stdout",
     "output_type": "stream",
     "text": [
      ">NC_001133.9 Saccharomyces cerevisiae S288C chromosome I, complete sequence\n",
      "ccacaccacacccacacacccacacaccacaccacacaccacaccacacccacacacacacatCCTAACACTACCCTAAC\n",
      "ACAGCCCTAATCTAACCCTGGCCAACCTGTCTCTCAACTTACCCTCCATTACCCTGCCTCCACTCGTTACCCTGTCCCAT\n",
      "TCAACCATACCACTCCGAACCACCATCCATCCCTCTACTTACTACCACTCACCCACCGTTACCCTCCAATTACCCATATC\n",
      "CAACCCACTGCCACTTACCCTACCATTACCCTACCATCCACCATGACCTACTCACCATACTGTTCTTCTACCCACCATAT\n",
      "TGAAACGCTAACAAATGATCGTAAATAACACACACGTGCTTACCCTACCACTTTATACCACCACCACATGCCATACTCAC\n",
      "CCTCACTTGTATACTGATTTTACGTACGCACACGGATGCTACAGTATATACCATCTCAAACTTACCCTACTCTCAGATTC\n",
      "CACTTCACTCCATGGCCCATCTCTCACTGAATCAGTACCAAATGCACTCACATCATTATGCACGGCACTTGCCTCAGCGG\n",
      "TCTATACCCTGTGCCATTTACCCATAACGCCCATCATTATCCACATTTTGATATCTATATCTCATTCGGCGGTcccaaat\n",
      "attgtataaCTGCCCTTAATACATACGTTATACCACTTTTGCACCATATACTTACCACTCCATTTATATACACTTATGTC\n"
     ]
    }
   ],
   "source": [
    "!head {REPO}/data/GCF_000146045.2_R64_genomic.fna"
   ]
  },
  {
   "cell_type": "markdown",
   "metadata": {},
   "source": [
    "The first line showing the name of the chromosome (but could be anything) begins with a ``>`` sign. If we look through the file, we will find a few of these lines, which means that this file actually contains multiple sequences (in this case multiple chromosomes).\n",
    "\n",
    "The other thing you will notice is that the sequence is actually broken up over multiple lines. The destinction between lines is purely formatting based. It has nothing to do biologically, so when we read in the file, we must remove newlines."
   ]
  },
  {
   "cell_type": "code",
   "execution_count": 3,
   "metadata": {},
   "outputs": [
    {
     "name": "stdout",
     "output_type": "stream",
     "text": [
      ">NC_001133.9 Saccharomyces cerevisiae S288C chromosome I, complete sequence\n",
      ">NC_001134.8 Saccharomyces cerevisiae S288C chromosome II, complete sequence\n",
      ">NC_001135.5 Saccharomyces cerevisiae S288C chromosome III, complete sequence\n",
      ">NC_001136.10 Saccharomyces cerevisiae S288C chromosome IV, complete sequence\n",
      ">NC_001137.3 Saccharomyces cerevisiae S288C chromosome V, complete sequence\n",
      ">NC_001138.5 Saccharomyces cerevisiae S288C chromosome VI, complete sequence\n",
      ">NC_001139.9 Saccharomyces cerevisiae S288C chromosome VII, complete sequence\n",
      ">NC_001140.6 Saccharomyces cerevisiae S288C chromosome VIII, complete sequence\n",
      ">NC_001141.2 Saccharomyces cerevisiae S288C chromosome IX, complete sequence\n",
      ">NC_001142.9 Saccharomyces cerevisiae S288C chromosome X, complete sequence\n",
      ">NC_001143.9 Saccharomyces cerevisiae S288C chromosome XI, complete sequence\n",
      ">NC_001144.5 Saccharomyces cerevisiae S288C chromosome XII, complete sequence\n",
      ">NC_001145.3 Saccharomyces cerevisiae S288C chromosome XIII, complete sequence\n",
      ">NC_001146.8 Saccharomyces cerevisiae S288C chromosome XIV, complete sequence\n",
      ">NC_001147.6 Saccharomyces cerevisiae S288C chromosome XV, complete sequence\n",
      ">NC_001148.4 Saccharomyces cerevisiae S288C chromosome XVI, complete sequence\n"
     ]
    }
   ],
   "source": [
    "!grep chromosome {home}/csc-448-student/data/GCF_000146045.2_R64_genomic.fna"
   ]
  },
  {
   "cell_type": "markdown",
   "metadata": {},
   "source": [
    "**Exercise 1.** Write a function that reads in the sequences in a FASTA file. You must handle the newlines and the headers."
   ]
  },
  {
   "cell_type": "code",
   "execution_count": 4,
   "metadata": {},
   "outputs": [
    {
     "data": {
      "text/plain": [
       "['>NC_001133.9 Saccharomyces cerevisiae S288C chromosome I, complete sequence',\n",
       " '>NC_001134.8 Saccharomyces cerevisiae S288C chromosome II, complete sequence',\n",
       " '>NC_001135.5 Saccharomyces cerevisiae S288C chromosome III, complete sequence',\n",
       " '>NC_001136.10 Saccharomyces cerevisiae S288C chromosome IV, complete sequence',\n",
       " '>NC_001137.3 Saccharomyces cerevisiae S288C chromosome V, complete sequence',\n",
       " '>NC_001138.5 Saccharomyces cerevisiae S288C chromosome VI, complete sequence',\n",
       " '>NC_001139.9 Saccharomyces cerevisiae S288C chromosome VII, complete sequence',\n",
       " '>NC_001140.6 Saccharomyces cerevisiae S288C chromosome VIII, complete sequence',\n",
       " '>NC_001141.2 Saccharomyces cerevisiae S288C chromosome IX, complete sequence',\n",
       " '>NC_001142.9 Saccharomyces cerevisiae S288C chromosome X, complete sequence',\n",
       " '>NC_001143.9 Saccharomyces cerevisiae S288C chromosome XI, complete sequence',\n",
       " '>NC_001144.5 Saccharomyces cerevisiae S288C chromosome XII, complete sequence',\n",
       " '>NC_001145.3 Saccharomyces cerevisiae S288C chromosome XIII, complete sequence',\n",
       " '>NC_001146.8 Saccharomyces cerevisiae S288C chromosome XIV, complete sequence',\n",
       " '>NC_001147.6 Saccharomyces cerevisiae S288C chromosome XV, complete sequence',\n",
       " '>NC_001148.4 Saccharomyces cerevisiae S288C chromosome XVI, complete sequence',\n",
       " '>NC_001224.1 Saccharomyces cerevisiae S288c mitochondrion, complete genome']"
      ]
     },
     "execution_count": 4,
     "metadata": {},
     "output_type": "execute_result"
    }
   ],
   "source": [
    "file = f\"{REPO}/data/GCF_000146045.2_R64_genomic.fna\"\n",
    "headers,sequences = helper.read_fasta(file)\n",
    "headers"
   ]
  },
  {
   "cell_type": "code",
   "execution_count": 5,
   "metadata": {},
   "outputs": [
    {
     "data": {
      "text/plain": [
       "0     ccacaccacacccacacacccacacaccacaccacacaccacacca...\n",
       "1     AAATAGCCCTCATGTACGTCTCCTCCAAGCCCTGTTGTCTCTTACC...\n",
       "2     cccacacaccacacccacaccacacccacacaccacacacaccaca...\n",
       "3     acaccacacccacaccacacccacacacaccacacccacacaccac...\n",
       "4     CGTCTCCTCCAAGCCCTGTTGTCTCTTACCCGGATGTTCAACCAAA...\n",
       "5     GATCTCGCAAGTGCATTCCTAGACTTAATTCATATCTGCTCCTCAA...\n",
       "6     ccacacccacacacaccacacccacacccacacactACCCTAACAC...\n",
       "7     cccacacacaccacacccacacaccacacccacactTTTCACATCT...\n",
       "8     cacacacaccacacccacaccacaccacaccacacccacacccaca...\n",
       "9     CCcacacacacaccacacccacacccacacacaccacacccacaca...\n",
       "10    caccacacccacacaccacacccacacacacaccacacccacacac...\n",
       "11    cacacacacacaccacccacacaccacaccacacaccacaccacac...\n",
       "12    Ccacacacacaccacacccacaccacacccacacccacacccacac...\n",
       "13    CCGGCTTTCTGAccgaaattaaaaaaaaaaaatgaaaatgaaaccC...\n",
       "14    acaccacacccacaccacacccacacccacacaccacacccacaca...\n",
       "15    AAATAGCCCTCATGTACGTCTCCTCCAAGCCCTGTTGTCTCTTACC...\n",
       "16    TTCATAATTAATTTTTTATATATATATTATATTATAATATTAATTT...\n",
       "dtype: object"
      ]
     },
     "execution_count": 5,
     "metadata": {},
     "output_type": "execute_result"
    }
   ],
   "source": [
    "import pandas as pd\n",
    "pd.Series(sequences)"
   ]
  },
  {
   "cell_type": "code",
   "execution_count": 20,
   "metadata": {},
   "outputs": [
    {
     "name": "stdout",
     "output_type": "stream",
     "text": [
      "\u001b[1m============================= test session starts ==============================\u001b[0m\n",
      "platform linux -- Python 3.9.7, pytest-7.1.2, pluggy-1.0.0 -- /opt/tljh/user/bin/python3.9\n",
      "cachedir: .pytest_cache\n",
      "rootdir: /home/jupyter-pander14/csc-448-instructor\n",
      "plugins: clarity-1.0.1, anyio-3.5.0\n",
      "collected 1 item                                                               \u001b[0m\u001b[1m\n",
      "\n",
      "../tests/test_Assignment1.py::test_exercise_1 \u001b[32mPASSED\u001b[0m\u001b[32m                     [100%]\u001b[0m\n",
      "\n",
      "\u001b[32m============================== \u001b[32m\u001b[1m1 passed\u001b[0m\u001b[32m in 0.70s\u001b[0m\u001b[32m ===============================\u001b[0m\n"
     ]
    }
   ],
   "source": [
    "!pytest -vv --diff-symbols {REPO}/tests/test_{NOTEBOOK}.py::test_exercise_1"
   ]
  },
  {
   "cell_type": "markdown",
   "metadata": {},
   "source": [
    "**Exercise 2:** Given a list of sequences, write a function that computes the average lenght of a chromosome?\n",
    "\n",
    "is the average length of a chromosome in Yeast?"
   ]
  },
  {
   "cell_type": "code",
   "execution_count": 6,
   "metadata": {},
   "outputs": [
    {
     "data": {
      "text/plain": [
       "23.0"
      ]
     },
     "execution_count": 6,
     "metadata": {},
     "output_type": "execute_result"
    }
   ],
   "source": [
    "sequences = [\"ccacacca\",\"cacccacacacccacacaccacaccacacaccacacca\",\"cacacacaccacacccacacca\",\"caccacaccacacccacacccaca\"]\n",
    "avg = helper.avg_length(sequences)\n",
    "avg"
   ]
  },
  {
   "cell_type": "code",
   "execution_count": 9,
   "metadata": {},
   "outputs": [
    {
     "name": "stdout",
     "output_type": "stream",
     "text": [
      "\u001b[1m============================= test session starts ==============================\u001b[0m\n",
      "platform linux -- Python 3.9.7, pytest-7.1.2, pluggy-1.0.0 -- /opt/tljh/user/bin/python3.9\n",
      "cachedir: .pytest_cache\n",
      "rootdir: /home/jupyter-pander14/csc-448-instructor\n",
      "plugins: clarity-1.0.1, anyio-3.5.0\n",
      "collected 1 item                                                               \u001b[0m\u001b[1m\n",
      "\n",
      "../tests/test_Assignment1.py::test_exercise_2 \u001b[32mPASSED\u001b[0m\u001b[32m                     [100%]\u001b[0m\n",
      "\n",
      "\u001b[32m============================== \u001b[32m\u001b[1m1 passed\u001b[0m\u001b[32m in 0.56s\u001b[0m\u001b[32m ===============================\u001b[0m\n"
     ]
    }
   ],
   "source": [
    "!pytest -vv --diff-symbols {REPO}/tests/test_{NOTEBOOK}.py::test_exercise_2"
   ]
  },
  {
   "cell_type": "markdown",
   "metadata": {},
   "source": [
    "**Problem 1:** What is the average length of a chromosome in yeast?\n",
    "\n",
    "**Upload your solution/answer here:** https://canvas.calpoly.edu/courses/87285/assignments/612489"
   ]
  },
  {
   "cell_type": "markdown",
   "metadata": {},
   "source": [
    "**Problem 2:** Apply your skew function to the first 2000 bp of the first chromosome. Graph the skew as previously done. Are there any clear origin of replication locations? If not, do you have any guesses as to why? We will share your responses with Dr. Davidson and hear her response. Let's impress her or alternatively give her a good laugh :)\n",
    "\n",
    "**Upload your solution/answer here:** https://canvas.calpoly.edu/courses/87285/assignments/612489\n",
    "\n",
    "Don't forget that you can also look into the database of known sites here: http://cerevisiae.oridb.org/search.php?chr=all&confirmed=true&likely=true&dubious=true&name= "
   ]
  },
  {
   "cell_type": "code",
   "execution_count": 17,
   "metadata": {},
   "outputs": [
    {
     "data": {
      "image/png": "[encoded data removed]",
      "text/plain": [
       "<Figure size 432x288 with 1 Axes>"
      ]
     },
     "metadata": {
      "needs_background": "light"
     },
     "output_type": "display_data"
    }
   ],
   "source": [
    "import pandas as pd\n",
    "skews = pd.Series(Topic1_helper.skew(sequences[0][:2000]))\n",
    "skews.plot.line();"
   ]
  },
  {
   "cell_type": "code",
   "execution_count": 8,
   "metadata": {
    "hideCode": false,
    "hidePrompt": false,
    "slideshow": {
     "slide_type": "skip"
    }
   },
   "outputs": [],
   "source": [
    "# Don't forget to push!"
   ]
  },
  {
   "cell_type": "code",
   "execution_count": null,
   "metadata": {
    "hideCode": false,
    "hidePrompt": false
   },
   "outputs": [],
   "source": []
  }
 ],
 "metadata": {
  "celltoolbar": "Slideshow",
  "hide_code_all_hidden": false,
  "jupytext": {
   "formats": "ipynb,md,py"
  },
  "kernelspec": {
   "display_name": "Python 3 (ipykernel)",
   "language": "python",
   "name": "python3"
  },
  "language_info": {
   "codemirror_mode": {
    "name": "ipython",
    "version": 3
   },
   "file_extension": ".py",
   "mimetype": "text/x-python",
   "name": "python",
   "nbconvert_exporter": "python",
   "pygments_lexer": "ipython3",
   "version": "3.9.7"
  }
 },
 "nbformat": 4,
 "nbformat_minor": 4
}
